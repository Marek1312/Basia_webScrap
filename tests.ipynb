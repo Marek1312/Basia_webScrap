{
 "cells": [
  {
   "cell_type": "code",
   "execution_count": 5,
   "metadata": {},
   "outputs": [],
   "source": [
    "import funcs as f\n",
    "from funcs import AnimalFood\n"
   ]
  },
  {
   "cell_type": "code",
   "execution_count": 7,
   "metadata": {},
   "outputs": [
    {
     "data": {
      "text/plain": [
       "[<funcs.AnimalFood at 0x292679f1c88>,\n <funcs.AnimalFood at 0x292679f1d30>,\n <funcs.AnimalFood at 0x292679f1dd8>,\n <funcs.AnimalFood at 0x292679f1e48>,\n <funcs.AnimalFood at 0x292679f1eb8>,\n <funcs.AnimalFood at 0x292679f1f28>,\n <funcs.AnimalFood at 0x292679f1fd0>,\n <funcs.AnimalFood at 0x29267a320b8>,\n <funcs.AnimalFood at 0x29267a32128>,\n <funcs.AnimalFood at 0x29267a32208>,\n <funcs.AnimalFood at 0x29267a322e8>,\n <funcs.AnimalFood at 0x29267a323c8>,\n <funcs.AnimalFood at 0x29267a32438>,\n <funcs.AnimalFood at 0x29267a32518>,\n <funcs.AnimalFood at 0x29267a325f8>,\n <funcs.AnimalFood at 0x29267a326d8>,\n <funcs.AnimalFood at 0x29267a327f0>,\n <funcs.AnimalFood at 0x29267a328d0>,\n <funcs.AnimalFood at 0x29267a329e8>,\n <funcs.AnimalFood at 0x29267a32ac8>,\n <funcs.AnimalFood at 0x29267a32b70>,\n <funcs.AnimalFood at 0x29267a32be0>,\n <funcs.AnimalFood at 0x29267a32c88>,\n <funcs.AnimalFood at 0x29267a32cf8>,\n <funcs.AnimalFood at 0x29267a32dd8>,\n <funcs.AnimalFood at 0x29267a32eb8>,\n <funcs.AnimalFood at 0x29267a32f98>,\n <funcs.AnimalFood at 0x29267a3d128>,\n <funcs.AnimalFood at 0x29267a3d1d0>,\n <funcs.AnimalFood at 0x29267a3d358>,\n <funcs.AnimalFood at 0x29267a3d470>,\n <funcs.AnimalFood at 0x29267a3d588>,\n <funcs.AnimalFood at 0x29267a3d6a0>,\n <funcs.AnimalFood at 0x29267a3d7b8>,\n <funcs.AnimalFood at 0x29267a3d8d0>,\n <funcs.AnimalFood at 0x29267a3d9e8>,\n <funcs.AnimalFood at 0x29267a3db00>,\n <funcs.AnimalFood at 0x29267a3dc18>,\n <funcs.AnimalFood at 0x29267a3dd30>,\n <funcs.AnimalFood at 0x29267a3de48>,\n <funcs.AnimalFood at 0x29267a3df60>,\n <funcs.AnimalFood at 0x29267a460b8>,\n <funcs.AnimalFood at 0x29267a461d0>,\n <funcs.AnimalFood at 0x29267a462e8>,\n <funcs.AnimalFood at 0x29267a46400>,\n <funcs.AnimalFood at 0x29267a46518>,\n <funcs.AnimalFood at 0x29267a46668>,\n <funcs.AnimalFood at 0x29267a467b8>,\n <funcs.AnimalFood at 0x29267a46908>,\n <funcs.AnimalFood at 0x29267a46a58>]"
      ]
     },
     "execution_count": 7,
     "metadata": {},
     "output_type": "execute_result"
    }
   ],
   "source": [
    "testy = f.load_obj('karma')\n",
    "testy"
   ]
  },
  {
   "cell_type": "code",
   "execution_count": 9,
   "metadata": {},
   "outputs": [
    {
     "data": {
      "text/plain": [
       "43.0"
      ]
     },
     "execution_count": 9,
     "metadata": {},
     "output_type": "execute_result"
    }
   ],
   "source": [
    "testy[20].composition['Białko surowe']"
   ]
  },
  {
   "cell_type": "code",
   "execution_count": 44,
   "metadata": {},
   "outputs": [],
   "source": [
    "def f_filter(key, n):\n",
    "    def getKey(custom):\n",
    "        return custom.composition[key]\n",
    "    new_items = []\n",
    "    for item in testy:\n",
    "        try:\n",
    "            item.composition[key]\n",
    "            new_items.append(item)\n",
    "        except:\n",
    "            pass\n",
    "    new_items.sort(key=getKey)\n",
    "    print(key + ': ')\n",
    "    for j in range(n):\n",
    "        print(new_items[j].name +' - ', new_items[j].composition[key] , '%')"
   ]
  },
  {
   "cell_type": "code",
   "execution_count": 43,
   "metadata": {},
   "outputs": [
    {
     "name": "stdout",
     "output_type": "stream",
     "text": [
      "Fosfor: \nAnimonda Integra Protect Adult Renal -  26.0 %\nSanabelle Urinary -  24.5 %\nAnimonda vom Feinsten Deluxe Adult z pstrągiem -  30.0 %\nAnimonda vom Feinsten Deluxe Adult z kurczakiem -  30.0 %\nAnimonda vom Feinsten Deluxe Grandis -  30.0 %\n"
     ]
    }
   ],
   "source": [
    "f_filter('Fosfor', 5)"
   ]
  },
  {
   "cell_type": "code",
   "execution_count": null,
   "metadata": {},
   "outputs": [],
   "source": []
  }
 ],
 "metadata": {
  "kernelspec": {
   "display_name": "Python 2",
   "language": "python",
   "name": "python2"
  },
  "language_info": {
   "codemirror_mode": {
    "name": "ipython",
    "version": 2
   },
   "file_extension": ".py",
   "mimetype": "text/x-python",
   "name": "python",
   "nbconvert_exporter": "python",
   "pygments_lexer": "ipython2",
   "version": "2.7.6"
  }
 },
 "nbformat": 4,
 "nbformat_minor": 0
}
