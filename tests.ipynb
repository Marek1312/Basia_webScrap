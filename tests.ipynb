{
 "cells": [
  {
   "cell_type": "code",
   "execution_count": 18,
   "metadata": {},
   "outputs": [],
   "source": [
    "import funcs as f\n",
    "from bs4 import BeautifulSoup\n",
    "import urllib.request"
   ]
  },
  {
   "cell_type": "code",
   "execution_count": 14,
   "metadata": {},
   "outputs": [
    {
     "data": {
      "text/plain": [
       "[<funcs.AnimalFood at 0x27ab2ec9c18>,\n <funcs.AnimalFood at 0x27ab2ec9ba8>,\n <funcs.AnimalFood at 0x27ab2ec9e10>,\n <funcs.AnimalFood at 0x27ab2ec9e80>,\n <funcs.AnimalFood at 0x27ab2ec9ef0>,\n <funcs.AnimalFood at 0x27ab2ec9f60>,\n <funcs.AnimalFood at 0x27ab2f29048>,\n <funcs.AnimalFood at 0x27ab2f290f0>,\n <funcs.AnimalFood at 0x27ab2f29160>]"
      ]
     },
     "execution_count": 14,
     "metadata": {},
     "output_type": "execute_result"
    }
   ],
   "source": [
    "testy = f.load_obj('karma_10')\n",
    "testy"
   ]
  },
  {
   "cell_type": "code",
   "execution_count": 46,
   "metadata": {},
   "outputs": [],
   "source": [
    "linki = ['http://www.zooplus.pl/shop/koty/karma_dla_kota_sucha/brit/brit_care/614280'\n",
    "        'http://www.zooplus.pl/shop/koty/karma_dla_kota_sucha/brit/brit_care/614303',\n",
    "        'http://www.zooplus.pl/shop/koty/karma_dla_kota_sucha/brit/brit_care/614306',\n",
    "        'http://www.zooplus.pl/shop/koty/karma_dla_kota_sucha/brit/brit_premium/613776',\n",
    "        'http://www.zooplus.pl/shop/koty/karma_dla_kota_sucha/brit/brit_premium/614072',\n",
    "        'http://www.zooplus.pl/shop/koty/karma_dla_kota_sucha/brit/brit_premium/614074',\n",
    "        'http://www.zooplus.pl/shop/koty/karma_dla_kota_sucha/cat_chow/659895',\n",
    "        'http://www.zooplus.pl/shop/koty/karma_dla_kota_sucha/cat_chow/659950']"
   ]
  },
  {
   "cell_type": "code",
   "execution_count": 308,
   "metadata": {},
   "outputs": [],
   "source": [
    "url = linki[1]"
   ]
  },
  {
   "cell_type": "code",
   "execution_count": 309,
   "metadata": {},
   "outputs": [],
   "source": [
    "soup = BeautifulSoup(urllib.request.urlopen(url), 'html.parser')"
   ]
  },
  {
   "cell_type": "code",
   "execution_count": 310,
   "metadata": {},
   "outputs": [],
   "source": [
    "def get_addons(soup):\n",
    "    for thing in (soup.findAll('article', attrs={'col-md-10 col-md-push-1'})):\n",
    "        #addons = (soup.find('article', attrs={'col-md-10 col-md-push-1'}))\n",
    "        addons = str(thing)\n",
    "        addons = addons[addons.find('witamina'):addons.find('              ')]\n",
    "        addons = addons.split(', ')\n",
    "        #addons[-1] = addons[-1][0:addons[-1].find('.')]\n",
    "        if addons != ['']:\n",
    "            return addons\n",
    "    return None\n"
   ]
  },
  {
   "cell_type": "code",
   "execution_count": 317,
   "metadata": {},
   "outputs": [
    {
     "name": "stdout",
     "output_type": "stream",
     "text": [
      "witamina A (E672) (22 500 j.m./kg)\nwitamina D3 (E671) (900 j.m./kg)\nwitamina E (3a700) (650 mg/kg)\nwitamina C (E300) (300 mg/kg)\ntauryna (2 300 mg/kg)\nchlorek choliny (2 100 mg/kg)\nL-karnityna (65 mg/kg)\nniacyna (40 mg/kg)\nbiotyna (1,8 mg/kg)\ncynk (E6) (150 mg/kg)\nmangan (E5) (56 mg/kg)\nżelazo (E1) (47 mg/kg)\nmiedź (E4) (11 mg/kg)\njod (E2) (3,7 mg/kg)\nselen (E8) (0,23 mg/kg/kg)\nDL-metonina (3.1.1.) (13 mg/kg)\narginina (3c3.6.1) (11 mg/kg)\nL-lizyna (3.2.3.) (9 mg/kg)\nmetafosforan sześciosodowy (E452i) (710 mg/kg)\nomega 3: 0,28%\nomega 6: 1,57%.\r\n\r\n\r\n\r\n\r\n\n\n"
     ]
    }
   ],
   "source": [
    "try:\n",
    "    [print(line) for line in get_addons(soup) if line != '/n']\n",
    "except:\n",
    "    print('Nie powiodło się')"
   ]
  },
  {
   "cell_type": "code",
   "execution_count": 315,
   "metadata": {},
   "outputs": [],
   "source": []
  },
  {
   "cell_type": "code",
   "execution_count": 225,
   "metadata": {
    "collapsed": false
   },
   "outputs": [
    {
     "data": {
      "text/plain": [
       "['',\n '<b>Skład:</b><br/>\\r',\n 'suszone mięso kurczaka (20%), ryż, świeże mięso kurczaka (14%), suszone mięso indyka (14%), tłuszcz drobiowy (konserwowany tokoferolami), otręby ryżowe, suszone jabłka, drożdże piwne, wątróbki kurczaka (2%), olej z łososia, oligosacharydy mannanu (155 mg/kg), fruktooligosacharydy (125 mg/kg), ekstrakt z jukki Schidigera (85 mg/kg), rokitnik zwyczajny (50 mg/kg)']"
      ]
     },
     "execution_count": 225,
     "metadata": {},
     "output_type": "execute_result"
    }
   ],
   "source": [
    "\n",
    "xxx = xx[xx.find('</div>')+6:xx.find('.<br/>')].split('\\n')\n",
    "for item in xxx:\n",
    "    if item == '':\n",
    "        continue\n",
    "    elif 'Skład' in item:\n",
    "        continue\n",
    "    else:\n",
    "        return item\n",
    "    \n",
    "        \n",
    "xxx\n",
    "#' '.join(xxx)"
   ]
  },
  {
   "cell_type": "code",
   "execution_count": null,
   "metadata": {},
   "outputs": [],
   "source": []
  },
  {
   "cell_type": "code",
   "execution_count": null,
   "metadata": {},
   "outputs": [],
   "source": []
  },
  {
   "cell_type": "code",
   "execution_count": 5,
   "metadata": {},
   "outputs": [],
   "source": [
    ""
   ]
  },
  {
   "cell_type": "code",
   "execution_count": 5,
   "metadata": {},
   "outputs": [],
   "source": [
    ""
   ]
  },
  {
   "cell_type": "code",
   "execution_count": null,
   "metadata": {},
   "outputs": [],
   "source": []
  }
 ],
 "metadata": {
  "kernelspec": {
   "display_name": "Python 2",
   "language": "python",
   "name": "python2"
  },
  "language_info": {
   "codemirror_mode": {
    "name": "ipython",
    "version": 2
   },
   "file_extension": ".py",
   "mimetype": "text/x-python",
   "name": "python",
   "nbconvert_exporter": "python",
   "pygments_lexer": "ipython2",
   "version": "2.7.6"
  }
 },
 "nbformat": 4,
 "nbformat_minor": 0
}
