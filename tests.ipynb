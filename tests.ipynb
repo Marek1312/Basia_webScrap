{
 "cells": [
  {
   "cell_type": "code",
   "execution_count": 5,
   "metadata": {
    "collapsed": true
   },
   "outputs": [],
   "source": [
    "import urllib.request\n",
    "from bs4 import BeautifulSoup\n",
    "\n",
    "url = 'http://www.zooplus.pl/shop/koty/karma_dla_kota_sucha/bozita/feline/284045'\n",
    "\n",
    "soup = BeautifulSoup(urllib.request.urlopen(url), 'html.parser')"
   ]
  },
  {
   "cell_type": "code",
   "execution_count": 35,
   "metadata": {},
   "outputs": [],
   "source": [
    ""
   ]
  },
  {
   "cell_type": "code",
   "execution_count": 57,
   "metadata": {},
   "outputs": [
    {
     "name": "stdout",
     "output_type": "stream",
     "text": [
      "{'400 g': '12,80 zł', '2 kg': '49,80 zł', '10 kg': '159,80 zł', '2 x 10 kg': '299,80 zł'}\n"
     ]
    }
   ],
   "source": [
    "prices = soup.findAll('div', attrs={'class': 'clearfix product__offer '})\n",
    "x = {}\n",
    "for price in prices:\n",
    "    x.update({(price.find('div', attrs={'class': 'product__varianttitle'})).text[0:120].strip() :\n",
    "              (price.find('span', attrs={'class': 'price__amount'})).text.strip()})\n",
    "print(x)\n",
    "    #print((price.find('div', attrs={'class': 'product__varianttitle'})).text[0:120].strip())\n",
    "    #print((price.find('span', attrs={'class': 'price__amount'})).text.strip())"
   ]
  },
  {
   "cell_type": "code",
   "execution_count": null,
   "metadata": {},
   "outputs": [],
   "source": []
  }
 ],
 "metadata": {
  "kernelspec": {
   "display_name": "Python 2",
   "language": "python",
   "name": "python2"
  },
  "language_info": {
   "codemirror_mode": {
    "name": "ipython",
    "version": 2
   },
   "file_extension": ".py",
   "mimetype": "text/x-python",
   "name": "python",
   "nbconvert_exporter": "python",
   "pygments_lexer": "ipython2",
   "version": "2.7.6"
  }
 },
 "nbformat": 4,
 "nbformat_minor": 0
}
